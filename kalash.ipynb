{
 "cells": [
  {
   "cell_type": "code",
   "execution_count": 1,
   "id": "70bc4266",
   "metadata": {},
   "outputs": [
    {
     "name": "stdout",
     "output_type": "stream",
     "text": [
      "Hello World\n"
     ]
    }
   ],
   "source": [
    "print(\"Hello World\")"
   ]
  },
  {
   "cell_type": "code",
   "execution_count": 10,
   "id": "d5c9a3a2",
   "metadata": {
    "scrolled": false
   },
   "outputs": [
    {
     "name": "stdout",
     "output_type": "stream",
     "text": [
      "my name is kalash I am 15 years\n",
      "Age is:15,Name is :kalash\n",
      "Age is:15,Name is :kalash\n"
     ]
    }
   ],
   "source": [
    "age=15\n",
    "name=\"kalash\"\n",
    "print(\"my name is\",name,\"I am\",age,\"years\")\n",
    "# f string\n",
    "print(f\"Age is:{age},Name is :{name}\")\n",
    "#format function\n",
    "print(\"Age is:{},Name is :{}\".format(age,name))"
   ]
  },
  {
   "cell_type": "code",
   "execution_count": 15,
   "id": "5bb30e0e",
   "metadata": {},
   "outputs": [
    {
     "name": "stdout",
     "output_type": "stream",
     "text": [
      "hello#python\n",
      "hello python "
     ]
    }
   ],
   "source": [
    "a=\"hello\"\n",
    "b=\"python\"\n",
    "print(a,b,sep='#')\n",
    "print(a,end=' ')\n",
    "print(b,end=' ')"
   ]
  },
  {
   "cell_type": "markdown",
   "id": "ce043f6e",
   "metadata": {},
   "source": [
    "num1=float(input(\"Enter the first number: \"))\n",
    "num2=float(input(\"Enter the second number: \"))\n",
    "print(num1+num2)"
   ]
  },
  {
   "cell_type": "code",
   "execution_count": 16,
   "id": "27a0705b",
   "metadata": {},
   "outputs": [
    {
     "name": "stdout",
     "output_type": "stream",
     "text": [
      "Enter the first number: 5\n",
      "Enter the second number: 5\n",
      "10.0\n"
     ]
    }
   ],
   "source": [
    "num1=float(input(\"Enter the first number: \")) \n",
    "num2=float(input(\"Enter the second number: \")) \n",
    "print(num1+num2)"
   ]
  },
  {
   "cell_type": "code",
   "execution_count": 19,
   "id": "a3a4721d",
   "metadata": {},
   "outputs": [
    {
     "name": "stdout",
     "output_type": "stream",
     "text": [
      "Enter the first number: 5\n",
      "Enter the second number: 7\n",
      "7.0 5.0\n"
     ]
    }
   ],
   "source": [
    "num1=float(input(\"Enter the first number: \")) \n",
    "num2=float(input(\"Enter the second number: \")) \n",
    "num1=num1+num2\n",
    "num2=num1-num2\n",
    "num1=num1-num2\n",
    "print(num1,num2)\n"
   ]
  },
  {
   "cell_type": "code",
   "execution_count": 23,
   "id": "3c48543f",
   "metadata": {},
   "outputs": [
    {
     "name": "stdout",
     "output_type": "stream",
     "text": [
      "Enter a :3\n",
      "Enter b :4\n",
      "Enter c :5\n",
      "6.0\n"
     ]
    }
   ],
   "source": [
    "import math\n",
    "a=float(input(\"Enter a :\"))\n",
    "b=float(input(\"Enter b :\"))\n",
    "c=float(input(\"Enter c :\"))\n",
    "s=(a+b+c)/2\n",
    "\n",
    "area=math.sqrt(s*(s-a)*(s-b)*(s-c))\n",
    "\n",
    "print(area)"
   ]
  },
  {
   "cell_type": "code",
   "execution_count": 3,
   "id": "f0488ae5",
   "metadata": {},
   "outputs": [
    {
     "name": "stdout",
     "output_type": "stream",
     "text": [
      "Enter the maths score:89\n",
      "Enter the physics score:91\n",
      "Enter the chemistry score:92\n",
      "Enter the english score:87\n",
      "Enter the hindi score:98\n",
      "91.4\n"
     ]
    }
   ],
   "source": [
    "maths = int(input(\"Enter the maths score:\"))\n",
    "physics = int(input(\"Enter the physics score:\"))\n",
    "chemistry = int(input(\"Enter the chemistry score:\"))\n",
    "english = int(input(\"Enter the english score:\"))\n",
    "hindi = int(input(\"Enter the hindi score:\"))\n",
    "sum=maths+physics+chemistry+english+hindi\n",
    "percentage=(sum/500)*100\n",
    "print(percentage)"
   ]
  },
  {
   "cell_type": "code",
   "execution_count": 4,
   "id": "9ae8be62",
   "metadata": {},
   "outputs": [
    {
     "name": "stdout",
     "output_type": "stream",
     "text": [
      "Enter the length:3\n",
      "Enter the breadth:3\n",
      "9\n"
     ]
    }
   ],
   "source": [
    "l=int(input(\"Enter the length:\"))\n",
    "b=int(input(\"Enter the breadth:\"))\n",
    "area=l*b\n",
    "print(area)\n"
   ]
  },
  {
   "cell_type": "code",
   "execution_count": 6,
   "id": "3a10b1d0",
   "metadata": {},
   "outputs": [
    {
     "name": "stdout",
     "output_type": "stream",
     "text": [
      "Enter the principal amount1000\n",
      "Enter the rate amount3\n",
      "Enter the time amount3\n",
      "90.0\n"
     ]
    }
   ],
   "source": [
    "p=float(input(\"Enter the principal amount\"))\n",
    "r=float(input(\"Enter the rate amount\"))\n",
    "t=float(input(\"Enter the time amount\"))\n",
    "si=(p*r*t)/100\n",
    "print(si)"
   ]
  },
  {
   "cell_type": "code",
   "execution_count": 10,
   "id": "d210be90",
   "metadata": {},
   "outputs": [
    {
     "name": "stdout",
     "output_type": "stream",
     "text": [
      "Enter the principal amount:10000\n",
      "Enter the rate amount:2\n",
      "Enter the time amount:12\n",
      "your compound interest is: 2682.417945625455\n"
     ]
    }
   ],
   "source": [
    "#compound interest\n",
    "p=float(input(\"Enter the principal amount:\"))\n",
    "r=float(input(\"Enter the rate amount:\"))\n",
    "t=float(input(\"Enter the time amount:\"))\n",
    "ci=p*(1+r/100)**t-p\n",
    "print(\"your compound interest is:\",ci)"
   ]
  },
  {
   "cell_type": "code",
   "execution_count": 19,
   "id": "90996bc3",
   "metadata": {},
   "outputs": [
    {
     "name": "stdout",
     "output_type": "stream",
     "text": [
      "Enter the lenghth of base:2\n",
      "Enter the lenghth of height:4\n",
      "4.0\n"
     ]
    }
   ],
   "source": [
    "#area of right angle triangle\n",
    "b=float(input(\"Enter the lenghth of base:\"))\n",
    "h=float(input(\"Enter the lenghth of height:\"))\n",
    "area = b*h/2\n",
    "print(area)"
   ]
  },
  {
   "cell_type": "code",
   "execution_count": 17,
   "id": "99e8b2ee",
   "metadata": {},
   "outputs": [
    {
     "name": "stdout",
     "output_type": "stream",
     "text": [
      "The number is:,234.67\n"
     ]
    }
   ],
   "source": [
    "# format string\n",
    "n1=234.67128\n",
    "print(f\"The number is:,{n1:.2f}\")"
   ]
  },
  {
   "cell_type": "code",
   "execution_count": null,
   "id": "f61f2c6b",
   "metadata": {},
   "outputs": [],
   "source": [
    "#gross salary\n"
   ]
  },
  {
   "cell_type": "code",
   "execution_count": 20,
   "id": "3e03e5f4",
   "metadata": {},
   "outputs": [
    {
     "name": "stdout",
     "output_type": "stream",
     "text": [
      "Enter the side length:2\n",
      "4.0\n"
     ]
    }
   ],
   "source": [
    "a=float(input(\"Enter the side length:\"))\n",
    "area_of_square=a**2\n",
    "print(area_of_square)"
   ]
  },
  {
   "cell_type": "code",
   "execution_count": 22,
   "id": "5a6e9ce5",
   "metadata": {},
   "outputs": [
    {
     "name": "stdout",
     "output_type": "stream",
     "text": [
      "enter the radius:3\n",
      "area of circle is: 28.274333882308138\n",
      "circumferemce of circle is 18.84955592153876\n"
     ]
    }
   ],
   "source": [
    "import math\n",
    "r=float(input(\"enter the radius:\"))\n",
    "area=math.pi*r*r\n",
    "circumference=2*math.pi*r\n",
    "print(\"area of circle is:\",area)\n",
    "print(\"circumferemce of circle is\",circumference)"
   ]
  },
  {
   "cell_type": "code",
   "execution_count": 23,
   "id": "569b3cfe",
   "metadata": {
    "collapsed": true
   },
   "outputs": [
    {
     "data": {
      "text/plain": [
       "['False',\n",
       " 'None',\n",
       " 'True',\n",
       " 'and',\n",
       " 'as',\n",
       " 'assert',\n",
       " 'async',\n",
       " 'await',\n",
       " 'break',\n",
       " 'class',\n",
       " 'continue',\n",
       " 'def',\n",
       " 'del',\n",
       " 'elif',\n",
       " 'else',\n",
       " 'except',\n",
       " 'finally',\n",
       " 'for',\n",
       " 'from',\n",
       " 'global',\n",
       " 'if',\n",
       " 'import',\n",
       " 'in',\n",
       " 'is',\n",
       " 'lambda',\n",
       " 'nonlocal',\n",
       " 'not',\n",
       " 'or',\n",
       " 'pass',\n",
       " 'raise',\n",
       " 'return',\n",
       " 'try',\n",
       " 'while',\n",
       " 'with',\n",
       " 'yield']"
      ]
     },
     "execution_count": 23,
     "metadata": {},
     "output_type": "execute_result"
    }
   ],
   "source": [
    "#it will give all the keywords\n",
    "\n",
    "import keyword\n",
    "keyword.kwlist\n"
   ]
  },
  {
   "cell_type": "code",
   "execution_count": 26,
   "id": "1d2c4b15",
   "metadata": {},
   "outputs": [
    {
     "name": "stdout",
     "output_type": "stream",
     "text": [
      "<class 'str'>\n",
      "<class 'int'>\n",
      "<class 'float'>\n",
      "<class 'list'>\n",
      "<class 'tuple'>\n"
     ]
    }
   ],
   "source": [
    "a=\"15\"\n",
    "print(type(a))\n",
    "b=15\n",
    "print(type(b))\n",
    "c=15.0\n",
    "print(type(c))\n",
    "d=[15]\n",
    "print(type(d))\n",
    "e=(15,28,23)\n",
    "print(type(e))"
   ]
  },
  {
   "cell_type": "code",
   "execution_count": null,
   "id": "f415cb7b",
   "metadata": {},
   "outputs": [],
   "source": []
  }
 ],
 "metadata": {
  "kernelspec": {
   "display_name": "Python 3 (ipykernel)",
   "language": "python",
   "name": "python3"
  },
  "language_info": {
   "codemirror_mode": {
    "name": "ipython",
    "version": 3
   },
   "file_extension": ".py",
   "mimetype": "text/x-python",
   "name": "python",
   "nbconvert_exporter": "python",
   "pygments_lexer": "ipython3",
   "version": "3.11.5"
  }
 },
 "nbformat": 4,
 "nbformat_minor": 5
}
